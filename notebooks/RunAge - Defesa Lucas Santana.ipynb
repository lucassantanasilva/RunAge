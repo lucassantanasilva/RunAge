{
 "cells": [
  {
   "cell_type": "markdown",
   "metadata": {
    "papermill": {
     "duration": 0.0712,
     "end_time": "2019-11-13T20:53:39.034623",
     "exception": false,
     "start_time": "2019-11-13T20:53:38.963423",
     "status": "completed"
    },
    "tags": []
   },
   "source": [
    "# RunAge - Defesa Lucas Santana\n",
    "\n",
    "> [Laboratory of Biomechanics and Motor Control](http://demotu.org/)  \n",
    "> Federal University of ABC, Brazil"
   ]
  },
  {
   "cell_type": "markdown",
   "metadata": {},
   "source": [
    "## Importando bibliotecas e funções"
   ]
  },
  {
   "cell_type": "code",
   "execution_count": 1,
   "metadata": {
    "ExecuteTime": {
     "end_time": "2020-01-24T13:59:15.755219Z",
     "start_time": "2020-01-24T13:59:11.893219Z"
    },
    "papermill": {
     "duration": 0.338932,
     "end_time": "2019-11-13T20:53:39.534123",
     "exception": false,
     "start_time": "2019-11-13T20:53:39.195191",
     "status": "completed"
    },
    "tags": []
   },
   "outputs": [],
   "source": [
    "import numpy as np\n",
    "import pandas as pd\n",
    "%matplotlib inline\n",
    "import matplotlib.pyplot as plt\n",
    "import sys, os\n",
    "sys.path.insert(1, r'./../functions')\n",
    "from detect_onset import detect_onset\n",
    "from invdyn3d import invdyn3d"
   ]
  },
  {
   "cell_type": "markdown",
   "metadata": {},
   "source": [
    "## Dados sobre o sujeito "
   ]
  },
  {
   "cell_type": "code",
   "execution_count": 2,
   "metadata": {
    "ExecuteTime": {
     "end_time": "2020-01-24T13:59:15.761219Z",
     "start_time": "2020-01-24T13:59:15.757222Z"
    }
   },
   "outputs": [],
   "source": [
    "# Massa total do sujeito(kg)\n",
    "M = 61.05\n",
    "# Massa do pé do sujeito (kg)\n",
    "m_foot = 0.8363849999999999"
   ]
  },
  {
   "cell_type": "markdown",
   "metadata": {},
   "source": [
    "## Importando os dados"
   ]
  },
  {
   "cell_type": "markdown",
   "metadata": {},
   "source": [
    "###### As variáveis utilizadas neste notebook possuem as seguintes definições:\n",
    "* VUDd: Velocidade do componente distal. Para mais detalhes sobre o cálculo, veja [1]\n",
    "* Fgrf: Força de reação do solo\n",
    "* Mfree: Momento livre\n",
    "* omega_shankGlobal: Velocidade angular \n",
    "* deltaVGlobal: Velocidade na articulação do tornozelo, obtida pela subtração da velocidade no tornozelo devido ao efeito do pé pela velocidade no tornozelo devido ao efeito da perna        \n",
    "* VcopGlobal: Velocidade de deformação do ponto distal do pé. Para mais detalhes sobre o cálculo, veja [1]         \n",
    "* omega_footGlobal: Veloidade angular pé no sistema de coordenadas global       \n",
    "* vcm_foot:  Velocidade do centro de massa do pé      \n",
    "* rcm_foot: Posição do centro de massa do pé       \n",
    "* cop_position: Posição do centro de pressão       \n",
    "* r_shank_dis: Posição distal da perna        \n",
    "* acm_foot: Aceleração do centro de massa        \n",
    "* alpha_footGlobal: Aceleração angular do pé        \n",
    "* I_foot:  Momento de inércia do pé em 3 dimensões       \n",
    "* e1_foot: Versor do pé no eixo i       \n",
    "* e2_foot: Versor do pé no eixo j      \n",
    "* e3_foot: Versor do pé no eixo k "
   ]
  },
  {
   "cell_type": "code",
   "execution_count": 3,
   "metadata": {
    "ExecuteTime": {
     "end_time": "2020-01-24T13:59:16.071219Z",
     "start_time": "2020-01-24T13:59:15.763219Z"
    }
   },
   "outputs": [],
   "source": [
    "VUDd = np.loadtxt('../data/VUDd.txt', delimiter=',')\n",
    "Fgrf = np.loadtxt('../data/Fgrf.txt', delimiter=',')\n",
    "Mfree = np.loadtxt('../data/Mfree.txt', delimiter=',')\n",
    "omega_shankGlobal = np.loadtxt('../data/omega_shankGlobal.txt', delimiter=',')\n",
    "deltaVGlobal = np.loadtxt('../data/deltaVGlobal.txt', delimiter=',')\n",
    "VcopGlobal = np.loadtxt('../data/VcopGlobal.txt', delimiter=',')\n",
    "omega_footGlobal = np.loadtxt('../data/omega_footGlobal.txt', delimiter=',')\n",
    "vcm_foot = np.loadtxt('../data/vcm_foot.txt', delimiter=',')\n",
    "rcm_foot = np.loadtxt('../data/rcm_foot.txt', delimiter=',')\n",
    "cop_position = np.loadtxt('../data/cop_position.txt', delimiter=',')\n",
    "r_shank_dis = np.loadtxt('../data/r_shank_dis.txt', delimiter=',')\n",
    "acm_foot = np.loadtxt('../data/acm_foot.txt', delimiter=',')\n",
    "alpha_footGlobal = np.loadtxt('../data/alpha_footGlobal.txt', delimiter=',')\n",
    "I_foot = np.loadtxt('../data/I_foot.txt', delimiter=',')\n",
    "e1_foot = np.loadtxt('../data/e1_foot.txt', delimiter=',')\n",
    "e2_foot = np.loadtxt('../data/e2_foot.txt', delimiter=',')\n",
    "e3_foot = np.loadtxt('../data/e3_foot.txt', delimiter=',')"
   ]
  },
  {
   "cell_type": "markdown",
   "metadata": {
    "papermill": {
     "duration": 0.030346,
     "end_time": "2019-11-13T20:53:45.786432",
     "exception": false,
     "start_time": "2019-11-13T20:53:45.756086",
     "status": "completed"
    },
    "tags": []
   },
   "source": [
    "## Potência mecânica utilizando o modelo do segmento distal"
   ]
  },
  {
   "cell_type": "markdown",
   "metadata": {
    "papermill": {
     "duration": 0.029768,
     "end_time": "2019-11-13T20:53:45.846736",
     "exception": false,
     "start_time": "2019-11-13T20:53:45.816968",
     "status": "completed"
    },
    "tags": []
   },
   "source": [
    "A potência total do segmento UD é a soma da \"potência de translação\" com  a \"potência de rotação\", em que essa última utiliza o momento livre e a velocidade angular da perna"
   ]
  },
  {
   "cell_type": "code",
   "execution_count": 4,
   "metadata": {
    "ExecuteTime": {
     "end_time": "2020-01-24T13:59:16.307219Z",
     "start_time": "2020-01-24T13:59:16.073219Z"
    },
    "papermill": {
     "duration": 0.035628,
     "end_time": "2019-11-13T20:53:45.912763",
     "exception": false,
     "start_time": "2019-11-13T20:53:45.877135",
     "status": "completed"
    },
    "scrolled": false,
    "tags": []
   },
   "outputs": [
    {
     "data": {
      "image/png": "[encoded data removed]",
      "text/plain": [
       "<Figure size 432x288 with 1 Axes>"
      ]
     },
     "metadata": {
      "needs_background": "light"
     },
     "output_type": "display_data"
    }
   ],
   "source": [
    "aux1 = np.sum(Fgrf[0:len(VUDd)]*VUDd, axis=1)\n",
    "aux2 = np.sum(Mfree[0:len(omega_shankGlobal)]*omega_shankGlobal, axis=1)\n",
    "PUD = aux1 + aux2\n",
    "\n",
    "if 1:\n",
    "    plt.figure()\n",
    "    plt.title('Potência mecânica - Modelo do segmento distal')\n",
    "    plt.plot(PUD/M)\n",
    "    plt.grid()\n",
    "    plt.show()"
   ]
  },
  {
   "cell_type": "markdown",
   "metadata": {
    "papermill": {
     "duration": 0.030489,
     "end_time": "2019-11-13T20:53:46.120277",
     "exception": false,
     "start_time": "2019-11-13T20:53:46.089788",
     "status": "completed"
    },
    "tags": []
   },
   "source": [
    "## Dinâmica Inversa"
   ]
  },
  {
   "cell_type": "markdown",
   "metadata": {},
   "source": [
    "A dinâmica inversa foi calculada através de uma função denominada \"invdyn3d\", que fornece a força e torque no tornozelo."
   ]
  },
  {
   "cell_type": "code",
   "execution_count": 5,
   "metadata": {
    "ExecuteTime": {
     "end_time": "2020-01-24T13:59:16.347223Z",
     "start_time": "2020-01-24T13:59:16.308219Z"
    },
    "papermill": {
     "duration": 0.036104,
     "end_time": "2019-11-13T20:53:46.909143",
     "exception": false,
     "start_time": "2019-11-13T20:53:46.873039",
     "status": "completed"
    },
    "tags": []
   },
   "outputs": [],
   "source": [
    "Fp_ankle, Mp_ankle = invdyn3d(rcm_foot, cop_position, r_shank_dis, acm_foot, alpha_footGlobal, omega_footGlobal,m_foot, I_foot, Fgrf, Mfree, e1_foot, e2_foot, e3_foot)"
   ]
  },
  {
   "cell_type": "markdown",
   "metadata": {
    "papermill": {
     "duration": 0.035271,
     "end_time": "2019-11-13T20:53:48.626167",
     "exception": false,
     "start_time": "2019-11-13T20:53:48.590896",
     "status": "completed"
    },
    "tags": []
   },
   "source": [
    "## Potência mecânica do tornozelo, potência do pé e potência mecânica total"
   ]
  },
  {
   "cell_type": "markdown",
   "metadata": {
    "papermill": {
     "duration": 0.036088,
     "end_time": "2019-11-13T20:53:48.698825",
     "exception": false,
     "start_time": "2019-11-13T20:53:48.662737",
     "status": "completed"
    },
    "tags": []
   },
   "source": [
    "A forma mais completa de se obter a potência por meio da dinâmica inversa é pela soma da potência do tornozelo obtida com um modelo de 6 graus de liberdade com a potência no pé."
   ]
  },
  {
   "cell_type": "markdown",
   "metadata": {
    "papermill": {
     "duration": 0.034305,
     "end_time": "2019-11-13T20:53:48.769191",
     "exception": false,
     "start_time": "2019-11-13T20:53:48.734886",
     "status": "completed"
    },
    "tags": []
   },
   "source": [
    "#### Velocidade angular"
   ]
  },
  {
   "cell_type": "markdown",
   "metadata": {
    "papermill": {
     "duration": 0.034825,
     "end_time": "2019-11-13T20:53:48.839624",
     "exception": false,
     "start_time": "2019-11-13T20:53:48.804799",
     "status": "completed"
    },
    "tags": []
   },
   "source": [
    "Para obter a velocidade angular no tornozelo, foi feita a subtração da velocidade angular no pé pela velocidade angular na perna"
   ]
  },
  {
   "cell_type": "code",
   "execution_count": 6,
   "metadata": {
    "ExecuteTime": {
     "end_time": "2020-01-24T13:59:16.353219Z",
     "start_time": "2020-01-24T13:59:16.349219Z"
    },
    "papermill": {
     "duration": 0.040829,
     "end_time": "2019-11-13T20:53:48.914913",
     "exception": false,
     "start_time": "2019-11-13T20:53:48.874084",
     "status": "completed"
    },
    "tags": []
   },
   "outputs": [],
   "source": [
    "omega_ankleGlobal = omega_footGlobal - omega_shankGlobal"
   ]
  },
  {
   "cell_type": "markdown",
   "metadata": {
    "papermill": {
     "duration": 0.035276,
     "end_time": "2019-11-13T20:53:49.522707",
     "exception": false,
     "start_time": "2019-11-13T20:53:49.487431",
     "status": "completed"
    },
    "tags": []
   },
   "source": [
    "### Potência mecânica do tornozelo (Pankle)"
   ]
  },
  {
   "cell_type": "markdown",
   "metadata": {
    "papermill": {
     "duration": 0.035236,
     "end_time": "2019-11-13T20:53:49.593448",
     "exception": false,
     "start_time": "2019-11-13T20:53:49.558212",
     "status": "completed"
    },
    "tags": []
   },
   "source": [
    "A potência no tornozelo foi obtida utilizando os modelo de 6 graus de liberdade para os cálculos, somando a potência de translação com a potência de rotação"
   ]
  },
  {
   "cell_type": "code",
   "execution_count": 7,
   "metadata": {
    "ExecuteTime": {
     "end_time": "2020-01-24T13:59:16.362219Z",
     "start_time": "2020-01-24T13:59:16.355219Z"
    },
    "papermill": {
     "duration": 0.04172,
     "end_time": "2019-11-13T20:53:49.671160",
     "exception": false,
     "start_time": "2019-11-13T20:53:49.629440",
     "status": "completed"
    },
    "tags": []
   },
   "outputs": [],
   "source": [
    "Pankle = np.sum(Mp_ankle[0:len(Fgrf)]*omega_ankleGlobal[0:len(Fgrf)], axis=1) + \\\n",
    "       np.sum(Fp_ankle[0:len(Fgrf)]*deltaVGlobal[0:len(Fgrf)], axis=1)\n",
    "\n",
    "p1 = np.sum(Mp_ankle[0:len(Fgrf)]*omega_ankleGlobal[0:len(Fgrf)], axis=1)\n",
    "p2 = np.sum(Fp_ankle[0:len(Fgrf)]*deltaVGlobal[0:len(Fgrf)], axis=1)"
   ]
  },
  {
   "cell_type": "markdown",
   "metadata": {
    "papermill": {
     "duration": 0.035828,
     "end_time": "2019-11-13T20:53:49.835813",
     "exception": false,
     "start_time": "2019-11-13T20:53:49.799985",
     "status": "completed"
    },
    "tags": []
   },
   "source": [
    "### Potência mecânica do pé (Pfoot)"
   ]
  },
  {
   "cell_type": "markdown",
   "metadata": {
    "ExecuteTime": {
     "end_time": "2019-11-12T14:50:35.448977Z",
     "start_time": "2019-11-12T14:50:35.375990Z"
    },
    "papermill": {
     "duration": 0.035797,
     "end_time": "2019-11-13T20:53:49.907987",
     "exception": false,
     "start_time": "2019-11-13T20:53:49.872190",
     "status": "completed"
    },
    "tags": []
   },
   "source": [
    "A potência no pé foi obtida pela soma dos produtos entre a força de reação do solo com a velocidade do centro de pressão com o produto do momento livre com a velocidade angular."
   ]
  },
  {
   "cell_type": "code",
   "execution_count": 8,
   "metadata": {
    "ExecuteTime": {
     "end_time": "2020-01-24T13:59:16.371219Z",
     "start_time": "2020-01-24T13:59:16.365219Z"
    },
    "papermill": {
     "duration": 0.042391,
     "end_time": "2019-11-13T20:53:49.987156",
     "exception": false,
     "start_time": "2019-11-13T20:53:49.944765",
     "status": "completed"
    },
    "tags": []
   },
   "outputs": [],
   "source": [
    "Pfoot = np.sum(Fgrf*VcopGlobal[0:len(Fgrf)], axis=1) + \\\n",
    "       np.sum(Mfree[0:len(Fgrf)]*omega_footGlobal[0:len(Fgrf)], axis=1)"
   ]
  },
  {
   "cell_type": "markdown",
   "metadata": {
    "papermill": {
     "duration": 0.035771,
     "end_time": "2019-11-13T20:53:50.058690",
     "exception": false,
     "start_time": "2019-11-13T20:53:50.022919",
     "status": "completed"
    },
    "tags": []
   },
   "source": [
    "### Potência mecânica total (Psum)"
   ]
  },
  {
   "cell_type": "markdown",
   "metadata": {
    "papermill": {
     "duration": 0.035778,
     "end_time": "2019-11-13T20:53:50.131685",
     "exception": false,
     "start_time": "2019-11-13T20:53:50.095907",
     "status": "completed"
    },
    "tags": []
   },
   "source": [
    "Ambas as potências obtidas anteriormente foram somadas para se obter a potência total"
   ]
  },
  {
   "cell_type": "code",
   "execution_count": 9,
   "metadata": {
    "ExecuteTime": {
     "end_time": "2020-01-24T13:59:17.072219Z",
     "start_time": "2020-01-24T13:59:16.374225Z"
    },
    "papermill": {
     "duration": 0.041129,
     "end_time": "2019-11-13T20:53:50.208571",
     "exception": false,
     "start_time": "2019-11-13T20:53:50.167442",
     "status": "completed"
    },
    "tags": []
   },
   "outputs": [
    {
     "data": {
      "image/png": "[encoded data removed]",
      "text/plain": [
       "<Figure size 432x288 with 1 Axes>"
      ]
     },
     "metadata": {
      "needs_background": "light"
     },
     "output_type": "display_data"
    },
    {
     "data": {
      "image/png": "[encoded data removed]",
      "text/plain": [
       "<Figure size 432x288 with 1 Axes>"
      ]
     },
     "metadata": {
      "needs_background": "light"
     },
     "output_type": "display_data"
    }
   ],
   "source": [
    "Pankle = Pankle/M\n",
    "Pfoot = Pfoot/M\n",
    "Psum = Pankle + Pfoot\n",
    "\n",
    "if 1:\n",
    "    plt.figure()\n",
    "    plt.plot(Psum)\n",
    "    plt.plot(Pankle)\n",
    "    plt.plot(Pfoot)\n",
    "    plt.legend(('$P_{sum}$','$P_{ankle}$','$P_{foot}$'))\n",
    "    plt.title(('Potência mecânica'))\n",
    "    #plt.show()\n",
    "    plt.grid()\n",
    "\n",
    "if 1:\n",
    "    plt.figure()\n",
    "    plt.plot(Psum)\n",
    "    plt.title(('Potência mecânica total'))\n",
    "    #plt.show()\n",
    "    plt.grid()"
   ]
  },
  {
   "cell_type": "markdown",
   "metadata": {
    "ExecuteTime": {
     "end_time": "2019-11-12T14:51:38.957154Z",
     "start_time": "2019-11-12T14:51:38.855186Z"
    },
    "papermill": {
     "duration": 0.037995,
     "end_time": "2019-11-13T20:53:50.481113",
     "exception": false,
     "start_time": "2019-11-13T20:53:50.443118",
     "status": "completed"
    },
    "tags": []
   },
   "source": [
    "## Normalizando as curvas pela fase de apoio"
   ]
  },
  {
   "cell_type": "code",
   "execution_count": 10,
   "metadata": {
    "ExecuteTime": {
     "end_time": "2020-01-24T13:59:17.087220Z",
     "start_time": "2020-01-24T13:59:17.073219Z"
    },
    "papermill": {
     "duration": 0.09736,
     "end_time": "2019-11-13T20:53:51.088216",
     "exception": false,
     "start_time": "2019-11-13T20:53:50.990856",
     "status": "completed"
    },
    "tags": []
   },
   "outputs": [],
   "source": [
    "# Detect events\n",
    "inds= detect_onset(Fgrf[:,1], 20, n_above=10, n_below=0, show=False)\n",
    "#Psum\n",
    "xx_Psum = Psum[inds[0][0]:inds[0][1]]\n",
    "time_Psum  = np.linspace(0, 100, len(xx_Psum))  # time vector for the original data\n",
    "timen_Psum = np.linspace(0, 100, 101)     # new time vector for the new time-normalized data\n",
    "Psum2 = np.interp(timen_Psum, time_Psum, xx_Psum)\n",
    "#Pfoot\n",
    "xx_Pfoot = Pfoot[inds[0][0]:inds[0][1]]\n",
    "time_Pfoot  = np.linspace(0, 100, len(xx_Pfoot))  # time vector for the original data\n",
    "timen_Pfoot = np.linspace(0, 100, 101)     # new time vector for the new time-normalized data\n",
    "Pfoot2 = np.interp(timen_Pfoot, time_Pfoot, xx_Pfoot)\n",
    "#Psum\n",
    "xx_Pankle = Pankle[inds[0][0]:inds[0][1]]\n",
    "time_Pankle  = np.linspace(0, 100, len(xx_Pankle))  # time vector for the original data\n",
    "timen_Pankle = np.linspace(0, 100, 101)     # new time vector for the new time-normalized data\n",
    "Pankle2 = np.interp(timen_Pankle, time_Pankle, xx_Pankle)"
   ]
  },
  {
   "cell_type": "markdown",
   "metadata": {
    "papermill": {
     "duration": 0.038055,
     "end_time": "2019-11-13T20:53:51.165140",
     "exception": false,
     "start_time": "2019-11-13T20:53:51.127085",
     "status": "completed"
    },
    "tags": []
   },
   "source": [
    "## Plotando as curvas normalizadas"
   ]
  },
  {
   "cell_type": "code",
   "execution_count": 11,
   "metadata": {
    "ExecuteTime": {
     "end_time": "2020-01-24T13:59:17.705279Z",
     "start_time": "2020-01-24T13:59:17.090219Z"
    },
    "papermill": {
     "duration": 0.047339,
     "end_time": "2019-11-13T20:53:51.249670",
     "exception": false,
     "start_time": "2019-11-13T20:53:51.202331",
     "status": "completed"
    },
    "tags": []
   },
   "outputs": [
    {
     "data": {
      "image/png": "[encoded data removed]",
      "text/plain": [
       "<Figure size 648x432 with 3 Axes>"
      ]
     },
     "metadata": {
      "needs_background": "light"
     },
     "output_type": "display_data"
    }
   ],
   "source": [
    "fig, axs = plt.subplots(3, 1, sharex=True, sharey=True, figsize=(9, 6), \n",
    "                        gridspec_kw={'hspace': 0})\n",
    "plt.suptitle('Potência mecânica (W/kg)', y=.96, fontsize=16)\n",
    "axs[0].plot(timen_Pankle, Pankle2)\n",
    "axs[0].set_xlim([0, 100])\n",
    "axs[1].plot(timen_Pankle, Pfoot2)\n",
    "axs[2].plot(timen_Pankle, Psum2)\n",
    "plt.xlabel('Stance cycle (%)', fontsize=14)\n",
    "labels = ['Tornozelo', 'Pé', 'Total']\n",
    "for ax, label in zip(axs, labels):\n",
    "    ax.grid()\n",
    "    ax.label_outer()\n",
    "    ax.set_ylabel(label, fontsize=14)"
   ]
  },
  {
   "cell_type": "markdown",
   "metadata": {},
   "source": [
    "# References"
   ]
  },
  {
   "cell_type": "markdown",
   "metadata": {},
   "source": [
    "[1] Takahashi, K. Z., Kepple, T. M., & Stanhope, S. J. (2012). A unified deformable (UD) segment model for quantifying total power of anatomical and prosthetic below-knee structures during stance in gait. Journal of Biomechanics, 45(15), 2662–2667. http://doi.org/10.1016/j.jbiomech.2012.08.017"
   ]
  }
 ],
 "metadata": {
  "hide_input": false,
  "kernelspec": {
   "display_name": "Python 3",
   "language": "python",
   "name": "python3"
  },
  "language_info": {
   "codemirror_mode": {
    "name": "ipython",
    "version": 3
   },
   "file_extension": ".py",
   "mimetype": "text/x-python",
   "name": "python",
   "nbconvert_exporter": "python",
   "pygments_lexer": "ipython3",
   "version": "3.7.6"
  },
  "nbTranslate": {
   "displayLangs": [
    "*"
   ],
   "hotkey": "alt-t",
   "langInMainMenu": true,
   "sourceLang": "en",
   "targetLang": "fr",
   "useGoogleTranslate": true
  },
  "papermill": {
   "duration": 13.320397,
   "end_time": "2019-11-13T20:53:51.799352",
   "environment_variables": {},
   "exception": null,
   "input_path": "./analysis_isabel_lab2.ipynb",
   "output_path": "/mnt/A/BMClab/Projects/Isabel/s044IC02.ipynb",
   "parameters": {
    "fname": "/mnt/A/BMClab/Projects/Isabel/s044IC02.c3d",
    "height": 177,
    "mass": 67
   },
   "start_time": "2019-11-13T20:53:38.478955",
   "version": "1.2.1"
  },
  "varInspector": {
   "cols": {
    "lenName": 16,
    "lenType": 16,
    "lenVar": 40
   },
   "kernels_config": {
    "python": {
     "delete_cmd_postfix": "",
     "delete_cmd_prefix": "del ",
     "library": "var_list.py",
     "varRefreshCmd": "print(var_dic_list())"
    },
    "r": {
     "delete_cmd_postfix": ") ",
     "delete_cmd_prefix": "rm(",
     "library": "var_list.r",
     "varRefreshCmd": "cat(var_dic_list()) "
    }
   },
   "position": {
    "height": "329px",
    "left": "1070px",
    "right": "20px",
    "top": "120px",
    "width": "350px"
   },
   "types_to_exclude": [
    "module",
    "function",
    "builtin_function_or_method",
    "instance",
    "_Feature"
   ],
   "window_display": false
  },
  "widgets": {
   "application/vnd.jupyter.widget-state+json": {
    "state": {
     "2c1bc1f8994b43d0b150b78d47345d61": {
      "model_module": "jupyter-matplotlib",
      "model_module_version": "^0.4.2",
      "model_name": "MPLCanvasModel",
      "state": {
       "layout": "IPY_MODEL_edf756efe752423790a833df5c0cc95e",
       "toolbar": "IPY_MODEL_5090e7b58fbf4ae4876c032cb3bd1671",
       "toolbar_position": "left"
      }
     },
     "5090e7b58fbf4ae4876c032cb3bd1671": {
      "model_module": "jupyter-matplotlib",
      "model_module_version": "^0.4.2",
      "model_name": "ToolbarModel",
      "state": {
       "layout": "IPY_MODEL_55d6be447a404ae681c43757f081c309",
       "toolitems": [
        [
         "Home",
         "Reset original view",
         "home",
         "home"
        ],
        [
         "Back",
         "Back to previous view",
         "arrow-left",
         "back"
        ],
        [
         "Forward",
         "Forward to next view",
         "arrow-right",
         "forward"
        ],
        [
         "Pan",
         "Pan axes with left mouse, zoom with right",
         "arrows",
         "pan"
        ],
        [
         "Zoom",
         "Zoom to rectangle",
         "square-o",
         "zoom"
        ],
        [
         "Download",
         "Download plot",
         "floppy-o",
         "save_figure"
        ]
       ]
      }
     },
     "55d6be447a404ae681c43757f081c309": {
      "model_module": "@jupyter-widgets/base",
      "model_module_version": "1.2.0",
      "model_name": "LayoutModel",
      "state": {}
     },
     "edf756efe752423790a833df5c0cc95e": {
      "model_module": "@jupyter-widgets/base",
      "model_module_version": "1.2.0",
      "model_name": "LayoutModel",
      "state": {}
     }
    },
    "version_major": 2,
    "version_minor": 0
   }
  }
 },
 "nbformat": 4,
 "nbformat_minor": 4
}
