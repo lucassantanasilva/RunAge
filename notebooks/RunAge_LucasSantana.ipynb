{
 "cells": [
  {
   "cell_type": "markdown",
   "metadata": {
    "papermill": {
     "duration": 0.0712,
     "end_time": "2019-11-13T20:53:39.034623",
     "exception": false,
     "start_time": "2019-11-13T20:53:38.963423",
     "status": "completed"
    },
    "tags": []
   },
   "source": [
    "# RunAge WBDS UD ENEBI2020\n",
    "\n",
    "> [Laboratory of Biomechanics and Motor Control](http://demotu.org/)  \n",
    "> Federal University of ABC, Brazil"
   ]
  },
  {
   "cell_type": "code",
   "execution_count": 1,
   "metadata": {
    "ExecuteTime": {
     "end_time": "2019-12-12T15:36:18.350884Z",
     "start_time": "2019-12-12T15:36:18.346884Z"
    },
    "papermill": {
     "duration": 0.035024,
     "end_time": "2019-11-13T20:53:39.100899",
     "exception": false,
     "start_time": "2019-11-13T20:53:39.065875",
     "status": "completed"
    },
    "tags": [
     "parameters"
    ]
   },
   "outputs": [],
   "source": [
    "path2 = r'C:\\Users\\ebm\\Desktop\\Lucas Santana\\RunAge\\WBDStxt'\n",
    "trial  = 'WBDS04walkO01'\n",
    "condition = 'C'\n",
    "mass   = 61.05\n",
    "fplat = ['Fx2', 'Fy2', 'Fz2', 'COPx2', 'COPy2', 'COPz2', 'Ty2']"
   ]
  },
  {
   "cell_type": "code",
   "execution_count": 2,
   "metadata": {
    "ExecuteTime": {
     "end_time": "2019-12-12T15:36:20.159918Z",
     "start_time": "2019-12-12T15:36:18.356899Z"
    },
    "papermill": {
     "duration": 0.338932,
     "end_time": "2019-11-13T20:53:39.534123",
     "exception": false,
     "start_time": "2019-11-13T20:53:39.195191",
     "status": "completed"
    },
    "tags": []
   },
   "outputs": [],
   "source": [
    "import numpy as np\n",
    "import pandas as pd\n",
    "%matplotlib inline\n",
    "#%matplotlib notebook\n",
    "#%matplotlib widget\n",
    "import matplotlib as mpl\n",
    "import matplotlib.pyplot as plt\n",
    "from matplotlib.patches import Polygon\n",
    "import sys, os\n",
    "import csv\n",
    "import math\n",
    "from scipy.signal import butter, filtfilt\n",
    "from scipy import signal, misc\n",
    "from IPython.display import display, Math, Latex\n",
    "\n",
    "#%load_ext autoreload\n",
    "#%autoreload 2\n",
    "\n",
    "sys.path.insert(1, r'./../functions')\n",
    "import io_cortexmac as io\n",
    "from dfmlevel import dfmlevel\n",
    "from critic_damp import critic_damp\n",
    "from detect_onset import detect_onset\n",
    "from tnorm import tnorm\n",
    "from resample import resample\n",
    "from svdt import svdt\n",
    "from derivative import derivative\n",
    "from local_to_global import local_to_global\n",
    "from global_to_local import global_to_local\n",
    "from invdyn3d import invdyn3d\n",
    "from ang_vel3d import ang_vel3d\n",
    "from bsp import bsp"
   ]
  },
  {
   "cell_type": "markdown",
   "metadata": {},
   "source": [
    "## Import static data"
   ]
  },
  {
   "cell_type": "code",
   "execution_count": 3,
   "metadata": {
    "ExecuteTime": {
     "end_time": "2019-12-12T15:36:20.240918Z",
     "start_time": "2019-12-12T15:36:20.161883Z"
    }
   },
   "outputs": [],
   "source": [
    "fname = os.path.join(path2, trial[:-7]+'static1.txt')\n",
    "dfS = pd.read_csv(fname, sep='\\t', header=0, index_col=0,skiprows=None, encoding='utf-8', engine='c')\n",
    "\n",
    "ptS = dfS/1000\n",
    "# foot markers\n",
    "rhees = ptS[['R.HeelX', 'R.HeelY', 'R.HeelZ']].values\n",
    "rmt1s = ptS[['R.MT1X', 'R.MT1Y', 'R.MT1Z']].values\n",
    "rmt5s = ptS[['R.MT5X', 'R.MT5Y', 'R.MT5Z']].values\n",
    "rmt2s = (rmt1s+rmt5s)/2\n",
    "lhees = ptS[['L.HeelX', 'L.HeelY', 'L.HeelZ']].values\n",
    "# shank markers\n",
    "rhfis = ptS[['R.HFX', 'R.HFY', 'R.HFZ']].values\n",
    "rttis = ptS[['R.TTX', 'R.TTY', 'R.TTZ']].values\n",
    "rlmls = ptS[['R.AnkleX', 'R.AnkleY', 'R.AnkleZ']].values\n",
    "rmmls = ptS[['R.Ankle.MedialX', 'R.Ankle.MedialY', 'R.Ankle.MedialZ']].values\n",
    "rajcs = (rlmls+rmmls)/2\n",
    "\n",
    "LMs = rlmls\n",
    "MMs = rmmls\n",
    "VMs = rmt5s\n",
    "FMs = rmt1s\n",
    "CAs = rhees\n",
    "HFs = rhfis\n",
    "TTs = rttis"
   ]
  },
  {
   "cell_type": "markdown",
   "metadata": {},
   "source": [
    "## Import dynamic data"
   ]
  },
  {
   "cell_type": "code",
   "execution_count": 4,
   "metadata": {
    "ExecuteTime": {
     "end_time": "2019-12-12T15:36:20.297883Z",
     "start_time": "2019-12-12T15:36:20.242911Z"
    }
   },
   "outputs": [],
   "source": [
    "#freq = 1000\n",
    "#dt = 1/freq\n",
    "M = mass\n",
    "gender = 'M'\n",
    "g = 9.80665  # m/s2, standard acceleration of free fall (ISO 80000-3:2006)\n",
    "\n",
    "fname2 = os.path.join(path2, trial+condition+'mkr.txt')\n",
    "df = pd.read_csv(fname2, sep='\\t', header=0, index_col=0,skiprows=None, encoding='utf-8', engine='c')\n",
    "\n",
    "labels = ['R.HeelX', 'R.HeelY', 'R.HeelZ','R.MT1X', 'R.MT1Y', 'R.MT1Z', \n",
    "          'R.MT5X', 'R.MT5Y', 'R.MT5Z','R.HFX', 'R.HFY', 'R.HFZ',\n",
    "         'R.TTX', 'R.TTY', 'R.TTZ','R.AnkleX', 'R.AnkleY', 'R.AnkleZ',\n",
    "         'R.HeelX', 'R.HeelY', 'R.HeelZ','L.HeelX', 'L.HeelY', 'L.HeelZ']\n",
    "pt = df/1000"
   ]
  },
  {
   "cell_type": "markdown",
   "metadata": {},
   "source": [
    "# Import force data"
   ]
  },
  {
   "cell_type": "code",
   "execution_count": 5,
   "metadata": {
    "ExecuteTime": {
     "end_time": "2019-12-12T15:36:20.319882Z",
     "start_time": "2019-12-12T15:36:20.299884Z"
    }
   },
   "outputs": [],
   "source": [
    "# read column labels\n",
    "nameWgrf = os.path.join(path2, trial+condition+'grf.txt')\n",
    "dfGRF = pd.read_csv(nameWgrf, sep='\\t', header='infer', skiprows=0, index_col=0, engine='c')"
   ]
  },
  {
   "cell_type": "code",
   "execution_count": 6,
   "metadata": {
    "ExecuteTime": {
     "end_time": "2019-12-12T15:36:20.325884Z",
     "start_time": "2019-12-12T15:36:20.320882Z"
    }
   },
   "outputs": [],
   "source": [
    "dfGRF = dfGRF[fplat]\n",
    "an = dfGRF"
   ]
  },
  {
   "cell_type": "code",
   "execution_count": 7,
   "metadata": {
    "ExecuteTime": {
     "end_time": "2019-12-12T15:36:20.332883Z",
     "start_time": "2019-12-12T15:36:20.327883Z"
    }
   },
   "outputs": [],
   "source": [
    "# GRFs\n",
    "Fgrf = an.values[:, 0:3]\n",
    "# COP\n",
    "cop_position = an.values[:, 3:6]/1000\n",
    "# Free Moment\n",
    "Mfree = np.atleast_2d(an.values[:, 6]).T\n",
    "Mfree = Mfree/1000"
   ]
  },
  {
   "cell_type": "markdown",
   "metadata": {},
   "source": [
    "## Resample data if necessary"
   ]
  },
  {
   "cell_type": "code",
   "execution_count": 8,
   "metadata": {
    "ExecuteTime": {
     "end_time": "2019-12-12T15:36:20.371883Z",
     "start_time": "2019-12-12T15:36:20.333883Z"
    }
   },
   "outputs": [
    {
     "name": "stdout",
     "output_type": "stream",
     "text": [
      "405 810\n"
     ]
    }
   ],
   "source": [
    "nrows_pt, nrows_an = pt.shape[0], an.shape[0]\n",
    "\n",
    "freq = 300\n",
    "dt = 1/freq\n",
    "an.index = an.index/freq\n",
    "if nrows_pt != nrows_an:\n",
    "    print(nrows_pt, nrows_an)\n",
    "    if nrows_pt > nrows_an:\n",
    "        print('an freq is lower than pt freq!')\n",
    "    pt = resample(pt, freq_new=freq, freq_old=freq*nrows_pt/nrows_an, limit=1000)"
   ]
  },
  {
   "cell_type": "markdown",
   "metadata": {
    "papermill": {
     "duration": 0.029363,
     "end_time": "2019-11-13T20:53:39.791254",
     "exception": false,
     "start_time": "2019-11-13T20:53:39.761891",
     "status": "completed"
    },
    "tags": []
   },
   "source": [
    "## Filtering data"
   ]
  },
  {
   "cell_type": "code",
   "execution_count": 9,
   "metadata": {
    "ExecuteTime": {
     "end_time": "2019-12-12T15:36:20.534883Z",
     "start_time": "2019-12-12T15:36:20.375883Z"
    },
    "papermill": {
     "duration": 0.152096,
     "end_time": "2019-11-13T20:53:39.973123",
     "exception": false,
     "start_time": "2019-11-13T20:53:39.821027",
     "status": "completed"
    },
    "tags": []
   },
   "outputs": [],
   "source": [
    "# Butterworth filter\n",
    "b, a = butter(2, (10/(freq/2)))\n",
    "for i in range(pt.shape[1]):\n",
    "    # Deal if all values are NaNs\n",
    "    if pt.iloc[:, i].isnull().all():\n",
    "        pt.iloc[:, i] = 0\n",
    "    # First deal with NaNs in the data\n",
    "    pt.iloc[:, i], _, _ = tnorm(pt.iloc[:, i], step=0, k=1, smooth=0, nan_at_ext='replace')\n",
    "    pt.iloc[:, i] = filtfilt(b, a, pt.iloc[:, i])     \n",
    "\n",
    "# Filter forces\n",
    "b, a, fc = critic_damp(fcut=50, freq=freq, npass=1, fcorr=False, filt='critic')\n",
    "for i in range(Fgrf.shape[1]):\n",
    "    Fgrf[:, i], _, _ = tnorm(Fgrf[:, i], step=0, k=1, smooth=0, nan_at_ext='replace')\n",
    "    Fgrf[:, i] = filtfilt(b, a, Fgrf[:, i])\n",
    "Fgrf[:, 1] = Fgrf[:, 1] - np.min(Fgrf[:, 1])\n",
    "\n",
    "b, a, fc = critic_damp(fcut=20, freq=freq, npass=1, fcorr=False, filt='critic')\n",
    "for i in range(cop_position.shape[1]):\n",
    "    cop_position[:, i], _, _ = tnorm(cop_position[:, i], step=0, k=1, smooth=0, nan_at_ext='replace')\n",
    "    cop_position[:, i] = filtfilt(b, a, cop_position[:, i])\n",
    "\n",
    "b, a, fc = critic_damp(fcut=50, freq=freq, npass=1, fcorr=False, filt='critic')\n",
    "for i in range(Mfree.shape[1]):\n",
    "    Mfree[:, i], _, _ = tnorm(Mfree[:, i], step=0, k=1, smooth=0, nan_at_ext='replace')\n",
    "    Mfree[:, i] = filtfilt(b, a, Mfree[:, i])     \n",
    "    \n",
    "Mfree = np.c_[np.zeros(Mfree.shape), Mfree, np.zeros(Mfree.shape)]"
   ]
  },
  {
   "cell_type": "markdown",
   "metadata": {},
   "source": [
    "## Define markers name"
   ]
  },
  {
   "cell_type": "code",
   "execution_count": 10,
   "metadata": {
    "ExecuteTime": {
     "end_time": "2019-12-12T15:36:20.550883Z",
     "start_time": "2019-12-12T15:36:20.536883Z"
    }
   },
   "outputs": [],
   "source": [
    "# foot markers\n",
    "rheew = pt[['R.HeelX', 'R.HeelY', 'R.HeelZ']].values\n",
    "rmt1w = pt[['R.MT1X', 'R.MT1Y', 'R.MT1Z']].values\n",
    "rmt5w = pt[['R.MT5X', 'R.MT5Y', 'R.MT5Z']].values\n",
    "lheew = pt[['L.HeelX', 'L.HeelY', 'L.HeelZ']].values\n",
    "# shank markers\n",
    "rhfiw = pt[['R.HFX', 'R.HFY', 'R.HFZ']].values\n",
    "rttiw = pt[['R.TTX', 'R.TTY', 'R.TTZ']].values\n",
    "rlmlw = pt[['R.AnkleX', 'R.AnkleY', 'R.AnkleZ']].values\n",
    "\n",
    "\n",
    "#rajcw = (rlmlw+rmmlw)/2\n",
    "LM = rlmlw\n",
    "VM = rmt5w\n",
    "FM = rmt1w\n",
    "CA = rheew\n",
    "HF = rhfiw\n",
    "TT = rttiw"
   ]
  },
  {
   "cell_type": "markdown",
   "metadata": {},
   "source": [
    "## Create virtual markers"
   ]
  },
  {
   "cell_type": "code",
   "execution_count": 11,
   "metadata": {
    "ExecuteTime": {
     "end_time": "2019-12-12T15:36:20.567884Z",
     "start_time": "2019-12-12T15:36:20.552883Z"
    }
   },
   "outputs": [],
   "source": [
    "# Shank\n",
    "shankMarkersstatic = ptS[['R.HFX', 'R.HFY', 'R.HFZ','R.TTX', 'R.TTY', 'R.TTZ',\n",
    "                        'R.AnkleX', 'R.AnkleY', 'R.AnkleZ']].values\n",
    "shankMarkersstatic = np.mean(shankMarkersstatic, axis=0)\n",
    "shankMarkerswalk = pt[['R.HFX', 'R.HFY', 'R.HFZ','R.TTX', 'R.TTY', 'R.TTZ',\n",
    "                        'R.AnkleX', 'R.AnkleY', 'R.AnkleZ']].values\n",
    "# foot\n",
    "footMarkersstatic = np.array([FMs, VMs, CAs])\n",
    "footMarkersstatic = np.mean(footMarkersstatic, axis=1)\n",
    "footMarkersstatic = np.reshape(footMarkersstatic,9)\n",
    "footMarkerswalk = np.array([FM, VM, CA])\n",
    "footMarkerswalk = np.reshape(footMarkerswalk,(footMarkerswalk.shape[1],9))"
   ]
  },
  {
   "cell_type": "code",
   "execution_count": 12,
   "metadata": {
    "ExecuteTime": {
     "end_time": "2019-12-12T15:36:21.127883Z",
     "start_time": "2019-12-12T15:36:20.568883Z"
    }
   },
   "outputs": [],
   "source": [
    "# Calculating the translation and rotation matrix\n",
    "# from svdt import svdt\n",
    "Rshank, Lshank, RMSE = svdt(shankMarkersstatic, shankMarkerswalk)\n",
    "Rfoot, Lfoot, RMSE = svdt(footMarkersstatic, footMarkerswalk)"
   ]
  },
  {
   "cell_type": "code",
   "execution_count": 13,
   "metadata": {
    "ExecuteTime": {
     "end_time": "2019-12-12T15:36:21.133884Z",
     "start_time": "2019-12-12T15:36:21.129883Z"
    }
   },
   "outputs": [],
   "source": [
    "#rmt2w = np.dot(Rfoot,rmt2s) + Lfoot\n",
    "MM = np.dot(Rshank,np.mean(MMs,axis=0)) + Lshank\n",
    "rmt2w = (FM+VM)/2\n",
    "rajcw = (MM+LM)/2"
   ]
  },
  {
   "cell_type": "markdown",
   "metadata": {},
   "source": [
    "## Detect events"
   ]
  },
  {
   "cell_type": "code",
   "execution_count": 14,
   "metadata": {
    "ExecuteTime": {
     "end_time": "2019-12-12T15:36:21.572884Z",
     "start_time": "2019-12-12T15:36:21.135884Z"
    }
   },
   "outputs": [
    {
     "data": {
      "image/png": "[encoded data removed]",
      "text/plain": [
       "<Figure size 576x288 with 1 Axes>"
      ]
     },
     "metadata": {
      "needs_background": "light"
     },
     "output_type": "display_data"
    },
    {
     "data": {
      "image/png": "[encoded data removed]",
      "text/plain": [
       "<Figure size 648x288 with 1 Axes>"
      ]
     },
     "metadata": {
      "needs_background": "light"
     },
     "output_type": "display_data"
    }
   ],
   "source": [
    "# detect onsets in Fy data\n",
    "threshold = 50\n",
    "n_above = int(0.1*freq)\n",
    "n_below = int(0.01*freq)\n",
    "threshold2 = 10*threshold  # N\n",
    "n_above2 = int(0.02*freq)\n",
    "idx = detect_onset(Fgrf[:, 1], threshold, n_above, n_below,\n",
    "                   threshold2, n_above2, show=True)\n",
    "\n",
    "R = pt[['R.HeelX', 'R.HeelY', 'R.HeelZ']].values[:, 1]\n",
    "L = pt[['L.HeelX', 'L.HeelY', 'L.HeelZ']].values[:, 1]\n",
    "\n",
    "if 1:\n",
    "    plt.figure(figsize=(9, 4))\n",
    "    plt.plot(R, 'b', L, 'r')\n",
    "    plt.show()\n",
    "\n",
    "# step side identification\n",
    "idR = []\n",
    "for ini, end in idx:\n",
    "    if R[ini:int((ini + end)/2)].sum() < L[ini:int((ini + end)/2)].sum():\n",
    "        idR = np.hstack((idR, [ini, end]))\n",
    "idR = idR.reshape((-1, 2)).astype(int)"
   ]
  },
  {
   "cell_type": "code",
   "execution_count": 15,
   "metadata": {
    "ExecuteTime": {
     "end_time": "2019-12-12T15:36:22.113884Z",
     "start_time": "2019-12-12T15:36:21.575884Z"
    },
    "papermill": {
     "duration": 0.038939,
     "end_time": "2019-11-13T20:53:40.378419",
     "exception": false,
     "start_time": "2019-11-13T20:53:40.339480",
     "status": "completed"
    },
    "tags": []
   },
   "outputs": [],
   "source": [
    "def footIOR(heel, mt1, mt2, mt5):\n",
    "    \"\"\"Calculates the foot coordinate system using the convention of IOR and CAST\n",
    "    \"\"\"\n",
    "    # CAST and IOR shank\n",
    "    yFoot=np.cross(mt5-heel, mt1-heel)\n",
    "    zFoot=np.cross(mt2-heel, yFoot)\n",
    "    xFoot=np.cross(yFoot, zFoot)\n",
    "    # Normalizing\n",
    "    xFoot=xFoot/np.linalg.norm(xFoot)\n",
    "    yFoot=yFoot/np.linalg.norm(yFoot)\n",
    "    zFoot=zFoot/np.linalg.norm(zFoot)\n",
    "\n",
    "    footIOR = np.array([xFoot, yFoot, zFoot])\n",
    "\n",
    "    return footIOR\n",
    "\n",
    "def shankIOR(rhfi, rtti, rlml, rajc):\n",
    "    \"\"\"Calculates the shank coordinate system using the convention of IOR and CAST\n",
    "    \"\"\"\n",
    "    # CAST and IOR shank\n",
    "    xShank = np.cross(rhfi-rajc, rlml-rajc)\n",
    "    zShank = np.cross(xShank, rtti-rajc)\n",
    "    yShank = np.cross(zShank, xShank)\n",
    "    # Normalizing\n",
    "    xShank = xShank/np.linalg.norm(xShank)\n",
    "    yShank = yShank/np.linalg.norm(yShank)\n",
    "    zShank = zShank/np.linalg.norm(zShank)\n",
    "\n",
    "    shankCAST = np.array([xShank, yShank, zShank])\n",
    "\n",
    "    return shankCAST\n",
    "\n",
    "shankCSwalk= np.empty(shape=(len(rheew),3,3))\n",
    "footCSwalk = np.empty(shape=(len(rheew),3,3))\n",
    "for ix in range(rheew.shape[0]):\n",
    "    shankCSwalk[ix,:,:] = shankIOR(rhfiw[ix,:], rttiw[ix,:], rlmlw[ix,:], rajcw[ix,:])\n",
    "    footCSwalk[ix,:,:]  = footIOR(rheew[ix,:], rmt1w[ix,:], rmt2w[ix,:], rmt5w[ix,:])\n",
    "    \n",
    "e3_foot = footCSwalk[:,2,:]\n",
    "e2_foot = footCSwalk[:,1,:]\n",
    "e1_foot = footCSwalk[:,0,:]\n",
    "\n",
    "e3_shank = shankCSwalk[:,2,:]\n",
    "e2_shank = shankCSwalk[:,1,:]\n",
    "e1_shank = shankCSwalk[:,0,:]"
   ]
  },
  {
   "cell_type": "markdown",
   "metadata": {
    "papermill": {
     "duration": 0.028949,
     "end_time": "2019-11-13T20:53:43.114700",
     "exception": false,
     "start_time": "2019-11-13T20:53:43.085751",
     "status": "completed"
    },
    "tags": []
   },
   "source": [
    "# Angular acceleration\n",
    "Os versores são extremamente importantes para o cálculo da aceleração angular dos segmentos. Para tal, todos foram derivados (\"dedt_foot\" e \"dedt_shank\") e em seguida multiplicados pelos valores dos outros segmentos, gerando desse modo a aceleração angular (\"omega_foot\" e \"omega_shank\")"
   ]
  },
  {
   "cell_type": "code",
   "execution_count": 16,
   "metadata": {
    "ExecuteTime": {
     "end_time": "2019-12-12T15:36:22.158883Z",
     "start_time": "2019-12-12T15:36:22.114883Z"
    },
    "papermill": {
     "duration": 0.221178,
     "end_time": "2019-11-13T20:53:43.365254",
     "exception": false,
     "start_time": "2019-11-13T20:53:43.144076",
     "status": "completed"
    },
    "tags": []
   },
   "outputs": [],
   "source": [
    "omega_footFoot = ang_vel3d(e1_foot,e2_foot,e3_foot,dt)\n",
    "omega_footGlobal = local_to_global(omega_footFoot,e1_foot,e2_foot,e3_foot)\n",
    "    \n",
    "omega_shankShank = ang_vel3d(e1_shank,e2_shank,e3_shank,dt)\n",
    "omega_shankGlobal = local_to_global(omega_shankShank,e1_shank,e2_shank,e3_shank)"
   ]
  },
  {
   "cell_type": "markdown",
   "metadata": {
    "papermill": {
     "duration": 0.029058,
     "end_time": "2019-11-13T20:53:43.424897",
     "exception": false,
     "start_time": "2019-11-13T20:53:43.395839",
     "status": "completed"
    },
    "tags": []
   },
   "source": [
    "## Center of mass"
   ]
  },
  {
   "cell_type": "code",
   "execution_count": 17,
   "metadata": {
    "ExecuteTime": {
     "end_time": "2019-12-12T15:36:22.165883Z",
     "start_time": "2019-12-12T15:36:22.159887Z"
    },
    "papermill": {
     "duration": 0.034499,
     "end_time": "2019-11-13T20:53:43.490396",
     "exception": false,
     "start_time": "2019-11-13T20:53:43.455897",
     "status": "completed"
    },
    "tags": []
   },
   "outputs": [],
   "source": [
    "a = HF - LM\n",
    "b = LM - MM\n",
    "n = np.cross(a, b, axis=1)\n",
    "n_norm = n/np.linalg.norm(n, axis=1, keepdims=True)"
   ]
  },
  {
   "cell_type": "markdown",
   "metadata": {
    "ExecuteTime": {
     "end_time": "2019-11-12T13:55:52.187500Z",
     "start_time": "2019-11-12T13:55:52.113520Z"
    },
    "papermill": {
     "duration": 0.030137,
     "end_time": "2019-11-13T20:53:43.551463",
     "exception": false,
     "start_time": "2019-11-13T20:53:43.521326",
     "status": "completed"
    },
    "tags": []
   },
   "source": [
    "Finding the distance between TT and the TTp:"
   ]
  },
  {
   "cell_type": "code",
   "execution_count": 18,
   "metadata": {
    "ExecuteTime": {
     "end_time": "2019-12-12T15:36:22.180883Z",
     "start_time": "2019-12-12T15:36:22.167883Z"
    },
    "papermill": {
     "duration": 0.034558,
     "end_time": "2019-11-13T20:53:43.617360",
     "exception": false,
     "start_time": "2019-11-13T20:53:43.582802",
     "status": "completed"
    },
    "tags": []
   },
   "outputs": [
    {
     "data": {
      "text/plain": [
       "True"
      ]
     },
     "execution_count": 18,
     "metadata": {},
     "output_type": "execute_result"
    }
   ],
   "source": [
    "d = np.sum((TT-LM)*n_norm,axis=1, keepdims=True)\n",
    "TTp = TT - (d*n_norm)\n",
    "# Testing (Must be zero):\n",
    "Test = np.sum((HF - TTp)*n_norm, axis=1)\n",
    "np.allclose(Test, 0)"
   ]
  },
  {
   "cell_type": "markdown",
   "metadata": {
    "ExecuteTime": {
     "end_time": "2019-11-12T13:56:50.265064Z",
     "start_time": "2019-11-12T13:56:50.192095Z"
    },
    "papermill": {
     "duration": 0.030889,
     "end_time": "2019-11-13T20:53:43.810382",
     "exception": false,
     "start_time": "2019-11-13T20:53:43.779493",
     "status": "completed"
    },
    "tags": []
   },
   "source": [
    "Segments positions:"
   ]
  },
  {
   "cell_type": "code",
   "execution_count": 19,
   "metadata": {
    "ExecuteTime": {
     "end_time": "2019-12-12T15:36:22.188884Z",
     "start_time": "2019-12-12T15:36:22.181883Z"
    },
    "papermill": {
     "duration": 0.035243,
     "end_time": "2019-11-13T20:53:43.877555",
     "exception": false,
     "start_time": "2019-11-13T20:53:43.842312",
     "status": "completed"
    },
    "tags": []
   },
   "outputs": [],
   "source": [
    "r_foot_prox  = CA\n",
    "r_foot_dis   = (VM+FM)/2\n",
    "r_shank_prox = TTp\n",
    "r_shank_dis  = (MM+LM)/2"
   ]
  },
  {
   "cell_type": "code",
   "execution_count": 20,
   "metadata": {
    "ExecuteTime": {
     "end_time": "2019-12-12T15:36:22.212883Z",
     "start_time": "2019-12-12T15:36:22.190883Z"
    }
   },
   "outputs": [],
   "source": [
    "m_foot,I_foot, rcm_foot = bsp(M, 'M', 'Foot', r_foot_dis, r_foot_prox, show=True)\n",
    "m_shank,I_shank, rcm_shank = bsp(M, 'M', 'Shank', r_shank_dis, r_shank_prox, show=True)"
   ]
  },
  {
   "cell_type": "markdown",
   "metadata": {
    "papermill": {
     "duration": 0.030501,
     "end_time": "2019-11-13T20:53:43.939891",
     "exception": false,
     "start_time": "2019-11-13T20:53:43.909390",
     "status": "completed"
    },
    "tags": []
   },
   "source": [
    "The velocity and acceleration of the center of mass of each segment:"
   ]
  },
  {
   "cell_type": "code",
   "execution_count": 21,
   "metadata": {
    "ExecuteTime": {
     "end_time": "2019-12-12T15:36:22.223883Z",
     "start_time": "2019-12-12T15:36:22.213884Z"
    },
    "papermill": {
     "duration": 0.034931,
     "end_time": "2019-11-13T20:53:44.006092",
     "exception": false,
     "start_time": "2019-11-13T20:53:43.971161",
     "status": "completed"
    },
    "tags": []
   },
   "outputs": [],
   "source": [
    "vcm_foot  = (rcm_foot[2:,:] - rcm_foot[0:-2,:])/(2*dt)\n",
    "vcm_foot  = np.vstack((vcm_foot, vcm_foot[-1, :], vcm_foot[-1, :]))\n",
    "vcm_shank = (rcm_shank[2:,:] - rcm_shank[0:-2,:])/(2*dt)\n",
    "vcm_shank = np.vstack((vcm_shank, vcm_shank[-1, :], vcm_shank[-1, :]))\n",
    "\n",
    "acm_foot  = (vcm_foot[2:,:] - vcm_foot[0:-2,:])/(2*dt)\n",
    "acm_foot  = np.vstack((acm_foot, acm_foot[-1, :], acm_foot[-1, :]))\n",
    "acm_shank = (vcm_shank[2:,:] - vcm_shank[0:-2,:])/(2*dt)\n",
    "acm_shank = np.vstack((acm_shank, acm_shank[-1, :], acm_shank[-1, :]))"
   ]
  },
  {
   "cell_type": "markdown",
   "metadata": {
    "papermill": {
     "duration": 0.029674,
     "end_time": "2019-11-13T20:53:45.415104",
     "exception": false,
     "start_time": "2019-11-13T20:53:45.385430",
     "status": "completed"
    },
    "tags": []
   },
   "source": [
    "## Displacement of the COP with respect to the UD segment’s COM"
   ]
  },
  {
   "cell_type": "markdown",
   "metadata": {
    "ExecuteTime": {
     "end_time": "2019-11-12T14:13:23.913274Z",
     "start_time": "2019-11-12T14:13:23.813305Z"
    },
    "papermill": {
     "duration": 0.030087,
     "end_time": "2019-11-13T20:53:45.475370",
     "exception": false,
     "start_time": "2019-11-13T20:53:45.445283",
     "status": "completed"
    },
    "tags": []
   },
   "source": [
    "Para calcular a potência pelo método proposto por Takahashi et al., foi necessário obter a distância do centro de pressão até o centro de massa da componente rígida, que no caso é o segmento perna."
   ]
  },
  {
   "cell_type": "code",
   "execution_count": 22,
   "metadata": {
    "ExecuteTime": {
     "end_time": "2019-12-12T15:36:22.228883Z",
     "start_time": "2019-12-12T15:36:22.225884Z"
    },
    "papermill": {
     "duration": 0.034945,
     "end_time": "2019-11-13T20:53:45.541090",
     "exception": false,
     "start_time": "2019-11-13T20:53:45.506145",
     "status": "completed"
    },
    "tags": []
   },
   "outputs": [],
   "source": [
    "rUD_cop_aux = cop_position - rcm_shank\n",
    "rUD_cop = rUD_cop_aux[0:len(omega_shankGlobal)]   "
   ]
  },
  {
   "cell_type": "markdown",
   "metadata": {
    "papermill": {
     "duration": 0.02895,
     "end_time": "2019-11-13T20:53:45.599659",
     "exception": false,
     "start_time": "2019-11-13T20:53:45.570709",
     "status": "completed"
    },
    "tags": []
   },
   "source": [
    "## Total deformation velocity of the distal component"
   ]
  },
  {
   "cell_type": "markdown",
   "metadata": {
    "papermill": {
     "duration": 0.030356,
     "end_time": "2019-11-13T20:53:45.660036",
     "exception": false,
     "start_time": "2019-11-13T20:53:45.629680",
     "status": "completed"
    },
    "tags": []
   },
   "source": [
    "Como a potência é o produto da força pela velocidade (ou torque pela velocidade angular), foi obtida a velocidade de translação do segmento UD, que utiliza o centro de massa da perna, sua velocidade angular e a distância entre o centro de pressão e o centro de massa da perna."
   ]
  },
  {
   "cell_type": "code",
   "execution_count": 23,
   "metadata": {
    "ExecuteTime": {
     "end_time": "2019-12-12T15:36:22.234883Z",
     "start_time": "2019-12-12T15:36:22.229883Z"
    },
    "papermill": {
     "duration": 0.034529,
     "end_time": "2019-11-13T20:53:45.725187",
     "exception": false,
     "start_time": "2019-11-13T20:53:45.690658",
     "status": "completed"
    },
    "tags": []
   },
   "outputs": [],
   "source": [
    "VUDd = vcm_shank + np.cross(omega_shankGlobal, rUD_cop)"
   ]
  },
  {
   "cell_type": "markdown",
   "metadata": {
    "papermill": {
     "duration": 0.030346,
     "end_time": "2019-11-13T20:53:45.786432",
     "exception": false,
     "start_time": "2019-11-13T20:53:45.756086",
     "status": "completed"
    },
    "tags": []
   },
   "source": [
    "## Total distal power of the UD segment"
   ]
  },
  {
   "cell_type": "markdown",
   "metadata": {
    "papermill": {
     "duration": 0.029768,
     "end_time": "2019-11-13T20:53:45.846736",
     "exception": false,
     "start_time": "2019-11-13T20:53:45.816968",
     "status": "completed"
    },
    "tags": []
   },
   "source": [
    "A potência total do segmento UD é a soma da \"potência de trsnalação\" com  a \"potência de rotação\", onde ess última utiliza o momento livre e a velocidade angular da perna"
   ]
  },
  {
   "cell_type": "code",
   "execution_count": 24,
   "metadata": {
    "ExecuteTime": {
     "end_time": "2019-12-12T15:36:22.497099Z",
     "start_time": "2019-12-12T15:36:22.250883Z"
    },
    "papermill": {
     "duration": 0.035628,
     "end_time": "2019-11-13T20:53:45.912763",
     "exception": false,
     "start_time": "2019-11-13T20:53:45.877135",
     "status": "completed"
    },
    "scrolled": false,
    "tags": []
   },
   "outputs": [
    {
     "data": {
      "image/png": "[encoded data removed]",
      "text/plain": [
       "<Figure size 432x288 with 1 Axes>"
      ]
     },
     "metadata": {
      "needs_background": "light"
     },
     "output_type": "display_data"
    }
   ],
   "source": [
    "#Mfree = Mfree[:,3:6]\n",
    "aux4 = np.sum(Fgrf[0:len(VUDd)]*VUDd, axis=1)\n",
    "aux5 = np.sum(Mfree[0:len(omega_shankGlobal)]*omega_shankGlobal, axis=1)\n",
    "PUD = aux4 + aux5\n",
    "\n",
    "aux4 = np.sum(Fgrf[0:len(VUDd)]*VUDd, axis=1)\n",
    "aux5 = np.sum(Mfree[0:len(omega_shankGlobal)]*omega_shankGlobal, axis=1)\n",
    "PUD = aux4 + aux5\n",
    "\n",
    "if 1:\n",
    "    plt.figure()\n",
    "    plt.title('Takahashi - UD')\n",
    "    plt.plot(PUD/M)\n",
    "    plt.show()"
   ]
  },
  {
   "cell_type": "markdown",
   "metadata": {
    "papermill": {
     "duration": 0.030489,
     "end_time": "2019-11-13T20:53:46.120277",
     "exception": false,
     "start_time": "2019-11-13T20:53:46.089788",
     "status": "completed"
    },
    "tags": []
   },
   "source": [
    "## Inverse dynamics"
   ]
  },
  {
   "cell_type": "markdown",
   "metadata": {
    "papermill": {
     "duration": 0.038399,
     "end_time": "2019-11-13T20:53:46.515998",
     "exception": false,
     "start_time": "2019-11-13T20:53:46.477599",
     "status": "completed"
    },
    "tags": []
   },
   "source": [
    "#### Segments angular acceleration"
   ]
  },
  {
   "cell_type": "markdown",
   "metadata": {
    "papermill": {
     "duration": 0.03237,
     "end_time": "2019-11-13T20:53:46.584233",
     "exception": false,
     "start_time": "2019-11-13T20:53:46.551863",
     "status": "completed"
    },
    "tags": []
   },
   "source": [
    "As velocidades angulares e cada segmento obtidas anteriormente foram derivadas para se obter as acelerações angulares"
   ]
  },
  {
   "cell_type": "code",
   "execution_count": 25,
   "metadata": {
    "ExecuteTime": {
     "end_time": "2019-12-12T15:36:22.506099Z",
     "start_time": "2019-12-12T15:36:22.500100Z"
    },
    "papermill": {
     "duration": 0.037031,
     "end_time": "2019-11-13T20:53:46.653266",
     "exception": false,
     "start_time": "2019-11-13T20:53:46.616235",
     "status": "completed"
    },
    "tags": []
   },
   "outputs": [],
   "source": [
    "alpha_footGlobal  = derivative(omega_footGlobal,dt) #Global\n",
    "alpha_footGlobal  = np.vstack((alpha_footGlobal, alpha_footGlobal[-1, :], alpha_footGlobal[-1, :]))\n",
    "alpha_shankGlobal = derivative(omega_shankGlobal,dt) #Global\n",
    "alpha_shankGlobal = np.vstack((alpha_shankGlobal, alpha_shankGlobal[-1, :], alpha_shankGlobal[-1, :]))"
   ]
  },
  {
   "cell_type": "markdown",
   "metadata": {
    "papermill": {
     "duration": 0.030998,
     "end_time": "2019-11-13T20:53:46.716205",
     "exception": false,
     "start_time": "2019-11-13T20:53:46.685207",
     "status": "completed"
    },
    "tags": []
   },
   "source": [
    "### Forces"
   ]
  },
  {
   "cell_type": "markdown",
   "metadata": {
    "papermill": {
     "duration": 0.031041,
     "end_time": "2019-11-13T20:53:46.778748",
     "exception": false,
     "start_time": "2019-11-13T20:53:46.747707",
     "status": "completed"
    },
    "tags": []
   },
   "source": [
    "Iniciando do segmento pé, foi realizado a soma das forças em ambos os segmentos. As forças provenientes de outro segmento foram adotadas como tendo sinal negativo, comopode ser visualizado nas equaqções de força para a perna, onde \"F_ankle\" teve o final negativo."
   ]
  },
  {
   "cell_type": "markdown",
   "metadata": {
    "papermill": {
     "duration": 0.031341,
     "end_time": "2019-11-13T20:53:46.842156",
     "exception": false,
     "start_time": "2019-11-13T20:53:46.810815",
     "status": "completed"
    },
    "tags": []
   },
   "source": [
    "##### Foot"
   ]
  },
  {
   "cell_type": "code",
   "execution_count": 26,
   "metadata": {
    "ExecuteTime": {
     "end_time": "2019-12-12T15:36:22.539098Z",
     "start_time": "2019-12-12T15:36:22.508099Z"
    },
    "papermill": {
     "duration": 0.036104,
     "end_time": "2019-11-13T20:53:46.909143",
     "exception": false,
     "start_time": "2019-11-13T20:53:46.873039",
     "status": "completed"
    },
    "tags": []
   },
   "outputs": [],
   "source": [
    "Fp_ankle, Mp_ankle = invdyn3d(rcm_foot, cop_position, r_shank_dis, acm_foot, alpha_footGlobal, omega_footGlobal,m_foot, I_foot, Fgrf, Mfree, e1_foot, e2_foot, e3_foot)"
   ]
  },
  {
   "cell_type": "code",
   "execution_count": 27,
   "metadata": {
    "ExecuteTime": {
     "end_time": "2019-12-12T15:36:23.077116Z",
     "start_time": "2019-12-12T15:36:22.540099Z"
    }
   },
   "outputs": [
    {
     "data": {
      "image/png": "[encoded data removed]",
      "text/plain": [
       "<Figure size 432x288 with 1 Axes>"
      ]
     },
     "metadata": {
      "needs_background": "light"
     },
     "output_type": "display_data"
    },
    {
     "data": {
      "image/png": "[encoded data removed]",
      "text/plain": [
       "<Figure size 432x288 with 1 Axes>"
      ]
     },
     "metadata": {
      "needs_background": "light"
     },
     "output_type": "display_data"
    }
   ],
   "source": [
    "if 1:\n",
    "    plt.figure()\n",
    "    plt.plot(Mp_ankle)\n",
    "    plt.legend(('e1','e2','e3'))\n",
    "    plt.title('Ankle Torque')\n",
    "    plt.ylabel('M (N.m)')\n",
    "    plt.show()\n",
    "    \n",
    "    plt.figure()\n",
    "    plt.plot(Fp_ankle)\n",
    "    plt.title('Ankle Force')\n",
    "    plt.legend(('X','Y','Z'))\n",
    "    plt.ylabel('F (N)')\n",
    "    plt.show()"
   ]
  },
  {
   "cell_type": "markdown",
   "metadata": {
    "papermill": {
     "duration": 0.031436,
     "end_time": "2019-11-13T20:53:46.972245",
     "exception": false,
     "start_time": "2019-11-13T20:53:46.940809",
     "status": "completed"
    },
    "tags": []
   },
   "source": [
    "##### Shank"
   ]
  },
  {
   "cell_type": "markdown",
   "metadata": {},
   "source": [
    "##### Segments angular acceleration"
   ]
  },
  {
   "cell_type": "code",
   "execution_count": 28,
   "metadata": {
    "ExecuteTime": {
     "end_time": "2019-12-12T15:36:23.188243Z",
     "start_time": "2019-12-12T15:36:23.078861Z"
    }
   },
   "outputs": [],
   "source": [
    "#Foot\n",
    "alpha_footFoot = global_to_local(alpha_footGlobal,e1_foot,e2_foot,e3_foot) \n",
    "#Shank\n",
    "alpha_shankShank = global_to_local(alpha_shankGlobal,e1_shank,e2_shank,e3_shank)\n",
    "#Free Moment\n",
    "MfreeFoot = global_to_local(Mfree,e1_foot,e2_foot,e3_foot)\n",
    "#Moment\n",
    "Mp_ankleGlobal = local_to_global(Mp_ankle, e1_foot, e2_foot, e3_foot)\n",
    "Mp_ankleShank = global_to_local(Mp_ankleGlobal, e1_shank, e2_shank, e3_shank)"
   ]
  },
  {
   "cell_type": "markdown",
   "metadata": {},
   "source": [
    "##### Moment and force"
   ]
  },
  {
   "cell_type": "code",
   "execution_count": 29,
   "metadata": {
    "ExecuteTime": {
     "end_time": "2019-12-12T15:36:23.222796Z",
     "start_time": "2019-12-12T15:36:23.189429Z"
    },
    "papermill": {
     "duration": 0.036915,
     "end_time": "2019-11-13T20:53:47.040849",
     "exception": false,
     "start_time": "2019-11-13T20:53:47.003934",
     "status": "completed"
    },
    "tags": []
   },
   "outputs": [],
   "source": [
    "Fp_knee, Mp_knee = invdyn3d(rcm_shank, r_shank_dis, r_shank_prox, acm_shank, alpha_shankGlobal, omega_shankGlobal,m_shank, I_shank, -Fp_ankle, -Mp_ankleShank, e1_shank, e2_shank, e3_shank)"
   ]
  },
  {
   "cell_type": "code",
   "execution_count": 30,
   "metadata": {
    "ExecuteTime": {
     "end_time": "2019-12-12T15:36:23.722334Z",
     "start_time": "2019-12-12T15:36:23.222796Z"
    },
    "papermill": {
     "duration": 0.069443,
     "end_time": "2019-11-13T20:53:47.965036",
     "exception": false,
     "start_time": "2019-11-13T20:53:47.895593",
     "status": "completed"
    },
    "tags": []
   },
   "outputs": [
    {
     "data": {
      "image/png": "[encoded data removed]",
      "text/plain": [
       "<Figure size 432x288 with 1 Axes>"
      ]
     },
     "metadata": {
      "needs_background": "light"
     },
     "output_type": "display_data"
    },
    {
     "data": {
      "image/png": "[encoded data removed]",
      "text/plain": [
       "<Figure size 432x288 with 1 Axes>"
      ]
     },
     "metadata": {
      "needs_background": "light"
     },
     "output_type": "display_data"
    }
   ],
   "source": [
    "if 1:\n",
    "    plt.figure()\n",
    "    plt.plot(Mp_knee)\n",
    "    plt.legend(('e1','e2','e3'))\n",
    "    plt.title('Ankle Torque')\n",
    "    plt.ylabel('M (N.m)')\n",
    "    plt.show()\n",
    "    \n",
    "    plt.figure()\n",
    "    plt.plot(Fp_knee)\n",
    "    plt.title('Ankle Force')\n",
    "    plt.legend(('X','Y','Z'))\n",
    "    plt.ylabel('F (N)')\n",
    "    plt.show()"
   ]
  },
  {
   "cell_type": "markdown",
   "metadata": {
    "papermill": {
     "duration": 0.035271,
     "end_time": "2019-11-13T20:53:48.626167",
     "exception": false,
     "start_time": "2019-11-13T20:53:48.590896",
     "status": "completed"
    },
    "tags": []
   },
   "source": [
    "## Anatomically-relevant (AR) Power"
   ]
  },
  {
   "cell_type": "markdown",
   "metadata": {
    "papermill": {
     "duration": 0.036088,
     "end_time": "2019-11-13T20:53:48.698825",
     "exception": false,
     "start_time": "2019-11-13T20:53:48.662737",
     "status": "completed"
    },
    "tags": []
   },
   "source": [
    "A forma mais completa de se obter a potência por meio da dinâmica inversa é pela soma da potência do tornozelo obtida com um modelo de 6 graus de liberdade com a potência no pé."
   ]
  },
  {
   "cell_type": "markdown",
   "metadata": {
    "papermill": {
     "duration": 0.034305,
     "end_time": "2019-11-13T20:53:48.769191",
     "exception": false,
     "start_time": "2019-11-13T20:53:48.734886",
     "status": "completed"
    },
    "tags": []
   },
   "source": [
    "#### Angular Velocity"
   ]
  },
  {
   "cell_type": "markdown",
   "metadata": {
    "papermill": {
     "duration": 0.034825,
     "end_time": "2019-11-13T20:53:48.839624",
     "exception": false,
     "start_time": "2019-11-13T20:53:48.804799",
     "status": "completed"
    },
    "tags": []
   },
   "source": [
    "Para obter a velocidade angular no tornozelo, foi feita a subtração da velocidade angular no pé pela velocidade angular na perna"
   ]
  },
  {
   "cell_type": "code",
   "execution_count": 31,
   "metadata": {
    "ExecuteTime": {
     "end_time": "2019-12-12T15:36:23.727333Z",
     "start_time": "2019-12-12T15:36:23.723333Z"
    },
    "papermill": {
     "duration": 0.040829,
     "end_time": "2019-11-13T20:53:48.914913",
     "exception": false,
     "start_time": "2019-11-13T20:53:48.874084",
     "status": "completed"
    },
    "tags": []
   },
   "outputs": [],
   "source": [
    "omega_ankleGlobal = omega_footGlobal - omega_shankGlobal"
   ]
  },
  {
   "cell_type": "markdown",
   "metadata": {
    "papermill": {
     "duration": 0.034686,
     "end_time": "2019-11-13T20:53:49.302567",
     "exception": false,
     "start_time": "2019-11-13T20:53:49.267881",
     "status": "completed"
    },
    "tags": []
   },
   "source": [
    "#### Joint Velocity"
   ]
  },
  {
   "cell_type": "markdown",
   "metadata": {
    "ExecuteTime": {
     "end_time": "2019-11-12T14:46:28.985137Z",
     "start_time": "2019-11-12T14:46:28.912166Z"
    },
    "papermill": {
     "duration": 0.03466,
     "end_time": "2019-11-13T20:53:49.372882",
     "exception": false,
     "start_time": "2019-11-13T20:53:49.338222",
     "status": "completed"
    },
    "tags": []
   },
   "source": [
    "Com a velocidade de rotação obtida, no passo seguinte foi feita a equação para obter a velocidade de translação no tornozelo. Para tal, foram calculadas as velocidades no tornozelo referentes a cada um dos segmentos. Em seguida, ambas as velocidade foram subtraídas para obter a velocidade na articulação do tornozelo."
   ]
  },
  {
   "cell_type": "code",
   "execution_count": 32,
   "metadata": {
    "ExecuteTime": {
     "end_time": "2019-12-12T15:36:23.738333Z",
     "start_time": "2019-12-12T15:36:23.729333Z"
    },
    "papermill": {
     "duration": 0.043778,
     "end_time": "2019-11-13T20:53:49.451317",
     "exception": false,
     "start_time": "2019-11-13T20:53:49.407539",
     "status": "completed"
    },
    "tags": []
   },
   "outputs": [],
   "source": [
    "VcopGlobal = vcm_foot + np.cross(omega_footGlobal, cop_position[0:len(omega_footGlobal)] - rcm_foot[0:len(omega_footGlobal)])\n",
    "VanklefootGlobal = vcm_foot + np.cross(omega_footGlobal, r_shank_dis[0:len(omega_footGlobal)] - rcm_foot[0:len(omega_footGlobal)])\n",
    "VankleshankGlobal = vcm_shank + np.cross(omega_shankGlobal, r_shank_dis[0:len(omega_shankGlobal)] - rcm_shank[0:len(omega_shankGlobal)])\n",
    "deltaVGlobal = VanklefootGlobal - VankleshankGlobal"
   ]
  },
  {
   "cell_type": "markdown",
   "metadata": {
    "papermill": {
     "duration": 0.035276,
     "end_time": "2019-11-13T20:53:49.522707",
     "exception": false,
     "start_time": "2019-11-13T20:53:49.487431",
     "status": "completed"
    },
    "tags": []
   },
   "source": [
    "#### Power (Pank)"
   ]
  },
  {
   "cell_type": "markdown",
   "metadata": {
    "papermill": {
     "duration": 0.035236,
     "end_time": "2019-11-13T20:53:49.593448",
     "exception": false,
     "start_time": "2019-11-13T20:53:49.558212",
     "status": "completed"
    },
    "tags": []
   },
   "source": [
    "A potência no tornozelo foi obtida utilizando os modelo de 6 graus de liberdade para os cálculos, somando a potência de translação com a potência de rotação"
   ]
  },
  {
   "cell_type": "code",
   "execution_count": 33,
   "metadata": {
    "ExecuteTime": {
     "end_time": "2019-12-12T15:36:23.751332Z",
     "start_time": "2019-12-12T15:36:23.740332Z"
    },
    "papermill": {
     "duration": 0.04172,
     "end_time": "2019-11-13T20:53:49.671160",
     "exception": false,
     "start_time": "2019-11-13T20:53:49.629440",
     "status": "completed"
    },
    "tags": []
   },
   "outputs": [],
   "source": [
    "Pank = np.sum(Mp_ankle[0:len(Fgrf)]*omega_ankleGlobal[0:len(Fgrf)], axis=1) + \\\n",
    "       np.sum(Fp_ankle[0:len(Fgrf)]*deltaVGlobal[0:len(Fgrf)], axis=1)\n",
    "\n",
    "p1 = np.sum(Mp_ankle[0:len(Fgrf)]*omega_ankleGlobal[0:len(Fgrf)], axis=1)\n",
    "p2 = np.sum(Fp_ankle[0:len(Fgrf)]*deltaVGlobal[0:len(Fgrf)], axis=1)\n",
    "\n",
    "if 0:\n",
    "    plt.figure()\n",
    "    plt.plot(p1/M)\n",
    "    plt.plot(p2/M)\n",
    "    plt.legend(('$P Rotação$','$P Traslação$'))\n",
    "    plt.title(('Power'))\n",
    "    plt.show()\n",
    "    plt.grid()"
   ]
  },
  {
   "cell_type": "markdown",
   "metadata": {
    "papermill": {
     "duration": 0.035828,
     "end_time": "2019-11-13T20:53:49.835813",
     "exception": false,
     "start_time": "2019-11-13T20:53:49.799985",
     "status": "completed"
    },
    "tags": []
   },
   "source": [
    "#### Power (Pftd)"
   ]
  },
  {
   "cell_type": "markdown",
   "metadata": {
    "ExecuteTime": {
     "end_time": "2019-11-12T14:50:35.448977Z",
     "start_time": "2019-11-12T14:50:35.375990Z"
    },
    "papermill": {
     "duration": 0.035797,
     "end_time": "2019-11-13T20:53:49.907987",
     "exception": false,
     "start_time": "2019-11-13T20:53:49.872190",
     "status": "completed"
    },
    "tags": []
   },
   "source": [
    "A potência no pé foi obtida pela soma dos produtos entre a forla de reação do solo com a velocidade do centro de pressão com o produto do momento livre com a velocidade angular."
   ]
  },
  {
   "cell_type": "code",
   "execution_count": 34,
   "metadata": {
    "ExecuteTime": {
     "end_time": "2019-12-12T15:36:23.761332Z",
     "start_time": "2019-12-12T15:36:23.753333Z"
    },
    "papermill": {
     "duration": 0.042391,
     "end_time": "2019-11-13T20:53:49.987156",
     "exception": false,
     "start_time": "2019-11-13T20:53:49.944765",
     "status": "completed"
    },
    "tags": []
   },
   "outputs": [],
   "source": [
    "Pftd = np.sum(Fgrf*VcopGlobal[0:len(Fgrf)], axis=1) + \\\n",
    "       np.sum(Mfree[0:len(Fgrf)]*omega_footGlobal[0:len(Fgrf)], axis=1)"
   ]
  },
  {
   "cell_type": "markdown",
   "metadata": {
    "papermill": {
     "duration": 0.035771,
     "end_time": "2019-11-13T20:53:50.058690",
     "exception": false,
     "start_time": "2019-11-13T20:53:50.022919",
     "status": "completed"
    },
    "tags": []
   },
   "source": [
    "#### Power (PAR)"
   ]
  },
  {
   "cell_type": "markdown",
   "metadata": {
    "papermill": {
     "duration": 0.035778,
     "end_time": "2019-11-13T20:53:50.131685",
     "exception": false,
     "start_time": "2019-11-13T20:53:50.095907",
     "status": "completed"
    },
    "tags": []
   },
   "source": [
    "Ambas as potências obtidas anteriormente foram somadas para se obter a potência total"
   ]
  },
  {
   "cell_type": "code",
   "execution_count": 35,
   "metadata": {
    "ExecuteTime": {
     "end_time": "2019-12-12T15:36:24.626333Z",
     "start_time": "2019-12-12T15:36:23.768333Z"
    },
    "papermill": {
     "duration": 0.041129,
     "end_time": "2019-11-13T20:53:50.208571",
     "exception": false,
     "start_time": "2019-11-13T20:53:50.167442",
     "status": "completed"
    },
    "tags": []
   },
   "outputs": [
    {
     "data": {
      "image/png": "[encoded data removed]",
      "text/plain": [
       "<Figure size 432x288 with 1 Axes>"
      ]
     },
     "metadata": {
      "needs_background": "light"
     },
     "output_type": "display_data"
    },
    {
     "data": {
      "image/png": "[encoded data removed]",
      "text/plain": [
       "<Figure size 432x288 with 1 Axes>"
      ]
     },
     "metadata": {
      "needs_background": "light"
     },
     "output_type": "display_data"
    }
   ],
   "source": [
    "Pank = Pank/M\n",
    "Pftd = Pftd/M\n",
    "Par = Pank + Pftd\n",
    "\n",
    "if 1:\n",
    "    plt.figure()\n",
    "    plt.plot(Par)\n",
    "    plt.plot(Pank)\n",
    "    plt.plot(Pftd)\n",
    "    plt.legend(('$P_{AR}$','$P_{ank}$','$P_{ftd}$'))\n",
    "    plt.title(('Power'))\n",
    "    #plt.show()\n",
    "    plt.grid()\n",
    "\n",
    "if 1:\n",
    "    plt.figure()\n",
    "    plt.plot(Par)\n",
    "    plt.title(('Anatomically-relevant (AR) Power'))\n",
    "    #plt.show()\n",
    "    plt.grid()"
   ]
  },
  {
   "cell_type": "markdown",
   "metadata": {
    "ExecuteTime": {
     "end_time": "2019-11-12T14:51:38.957154Z",
     "start_time": "2019-11-12T14:51:38.855186Z"
    },
    "papermill": {
     "duration": 0.037995,
     "end_time": "2019-11-13T20:53:50.481113",
     "exception": false,
     "start_time": "2019-11-13T20:53:50.443118",
     "status": "completed"
    },
    "tags": []
   },
   "source": [
    "## Trimm data"
   ]
  },
  {
   "cell_type": "code",
   "execution_count": 36,
   "metadata": {
    "ExecuteTime": {
     "end_time": "2019-12-12T15:36:24.648333Z",
     "start_time": "2019-12-12T15:36:24.628333Z"
    },
    "papermill": {
     "duration": 0.09736,
     "end_time": "2019-11-13T20:53:51.088216",
     "exception": false,
     "start_time": "2019-11-13T20:53:50.990856",
     "status": "completed"
    },
    "tags": []
   },
   "outputs": [],
   "source": [
    "Par2 = np.empty((101,int(idR.shape[0])))\n",
    "Pank2= np.empty((101, int(idR.shape[0]))) \n",
    "Pftd2= np.empty((101, int(idR.shape[0])))\n",
    "Tank2= np.empty((101, int(idR.shape[0])))\n",
    "i = 0\n",
    "for ini, fim in idR:\n",
    "    if not np.any(np.isnan(Par[ini:fim])):\n",
    "        ParX = Par[ini:fim]\n",
    "        PankX= Pank[ini:fim]\n",
    "        PftdX= Pftd[ini:fim]\n",
    "        TankX= Mp_ankle[ini:fim,2]\n",
    "\n",
    "        yn1, tn, indie = tnorm(ParX, k=1, smooth=0, mask=None, show=False)\n",
    "        yn2, tn, indie = tnorm(PankX, k=1, smooth=0, mask=None, show=False)\n",
    "        yn3, tn, indie = tnorm(PftdX, k=1, smooth=0, mask=None, show=False)\n",
    "        yn4, tn, indie = tnorm(TankX, k=1, smooth=0, mask=None, show=False)\n",
    "\n",
    "        Par2[:, i]  = yn1\n",
    "        Pank2[:,i] = yn2\n",
    "        Pftd2[:,i] = yn3\n",
    "        Tank2[:,i] = yn4\n",
    "        i += 1\n",
    "        \n",
    "Par2 = Par2[:, 0:i]\n",
    "Pank2 = Pank2[:, 0:i]\n",
    "Pftd2 = Pftd2[:, 0:i]\n",
    "Tank2 = Tank2[:, 0:i]"
   ]
  },
  {
   "cell_type": "markdown",
   "metadata": {
    "papermill": {
     "duration": 0.038055,
     "end_time": "2019-11-13T20:53:51.165140",
     "exception": false,
     "start_time": "2019-11-13T20:53:51.127085",
     "status": "completed"
    },
    "tags": []
   },
   "source": [
    "## Save Powers"
   ]
  },
  {
   "cell_type": "code",
   "execution_count": 37,
   "metadata": {
    "ExecuteTime": {
     "end_time": "2019-12-12T15:36:25.535755Z",
     "start_time": "2019-12-12T15:36:24.652339Z"
    },
    "papermill": {
     "duration": 0.047339,
     "end_time": "2019-11-13T20:53:51.249670",
     "exception": false,
     "start_time": "2019-11-13T20:53:51.202331",
     "status": "completed"
    },
    "tags": []
   },
   "outputs": [
    {
     "name": "stderr",
     "output_type": "stream",
     "text": [
      "C:\\Users\\ebm\\Miniconda3\\lib\\site-packages\\numpy\\core\\_methods.py:217: RuntimeWarning: Degrees of freedom <= 0 for slice\n",
      "  keepdims=keepdims)\n",
      "C:\\Users\\ebm\\Miniconda3\\lib\\site-packages\\numpy\\core\\_methods.py:207: RuntimeWarning: invalid value encountered in true_divide\n",
      "  ret, rcount, out=ret, casting='unsafe', subok=False)\n"
     ]
    },
    {
     "data": {
      "image/png": "[encoded data removed]",
      "text/plain": [
       "<Figure size 648x432 with 3 Axes>"
      ]
     },
     "metadata": {
      "needs_background": "light"
     },
     "output_type": "display_data"
    }
   ],
   "source": [
    "powers = np.c_[tn, np.mean(Par2, 1), np.std(Par2, 1, ddof=1),\n",
    "               np.mean(Pank2, 1), np.std(Pank2, 1, ddof=1),\n",
    "               np.mean(Pftd2, 1), np.std(Pftd2, 1, ddof=1)]\n",
    "\n",
    "fname_pwr = os.path.join(path2, trial + '_' + condition + '_pwr.txt')\n",
    "# header and format for file\n",
    "fmt = '%.d' + '\\t%.6f'*(powers.shape[1]-1)\n",
    "header = 'Time\\tPar_m\\tPar_sd\\tPank_m\\tPank_sd\\tPftd_m\\tPftd_sd'\n",
    "# save sensors data\n",
    "#np.savetxt(fname=fname_pwr, X=powers, fmt=fmt, delimiter='\\t', header=header, comments='')\n",
    "\n",
    "fig, axs = plt.subplots(3, 1, sharex=True, sharey=True, figsize=(9, 6), \n",
    "                        gridspec_kw={'hspace': 0})\n",
    "plt.suptitle('Mechanical Power (W/kg) - All trials of {}'.format(trial+condition), y=.96, fontsize=16)\n",
    "axs[0].plot(tn, Pank2)\n",
    "axs[0].set_xlim([0, 100])\n",
    "axs[1].plot(tn, Pftd2)\n",
    "axs[2].plot(tn, Par2)\n",
    "plt.xlabel('Stance cycle (%)', fontsize=14)\n",
    "labels = ['Ankle', 'Foot', 'Total']\n",
    "for ax, label in zip(axs, labels):\n",
    "    ax.grid()\n",
    "    ax.label_outer()\n",
    "    ax.set_ylabel(label, fontsize=14)"
   ]
  },
  {
   "cell_type": "code",
   "execution_count": null,
   "metadata": {},
   "outputs": [],
   "source": []
  }
 ],
 "metadata": {
  "hide_input": false,
  "kernelspec": {
   "display_name": "Python 3",
   "language": "python",
   "name": "python3"
  },
  "language_info": {
   "codemirror_mode": {
    "name": "ipython",
    "version": 3
   },
   "file_extension": ".py",
   "mimetype": "text/x-python",
   "name": "python",
   "nbconvert_exporter": "python",
   "pygments_lexer": "ipython3",
   "version": "3.7.5"
  },
  "nbTranslate": {
   "displayLangs": [
    "*"
   ],
   "hotkey": "alt-t",
   "langInMainMenu": true,
   "sourceLang": "en",
   "targetLang": "fr",
   "useGoogleTranslate": true
  },
  "papermill": {
   "duration": 13.320397,
   "end_time": "2019-11-13T20:53:51.799352",
   "environment_variables": {},
   "exception": null,
   "input_path": "./analysis_isabel_lab2.ipynb",
   "output_path": "/mnt/A/BMClab/Projects/Isabel/s044IC02.ipynb",
   "parameters": {
    "fname": "/mnt/A/BMClab/Projects/Isabel/s044IC02.c3d",
    "height": 177,
    "mass": 67
   },
   "start_time": "2019-11-13T20:53:38.478955",
   "version": "1.2.1"
  },
  "varInspector": {
   "cols": {
    "lenName": 16,
    "lenType": 16,
    "lenVar": 40
   },
   "kernels_config": {
    "python": {
     "delete_cmd_postfix": "",
     "delete_cmd_prefix": "del ",
     "library": "var_list.py",
     "varRefreshCmd": "print(var_dic_list())"
    },
    "r": {
     "delete_cmd_postfix": ") ",
     "delete_cmd_prefix": "rm(",
     "library": "var_list.r",
     "varRefreshCmd": "cat(var_dic_list()) "
    }
   },
   "position": {
    "height": "329px",
    "left": "1070px",
    "right": "20px",
    "top": "120px",
    "width": "350px"
   },
   "types_to_exclude": [
    "module",
    "function",
    "builtin_function_or_method",
    "instance",
    "_Feature"
   ],
   "window_display": false
  },
  "widgets": {
   "application/vnd.jupyter.widget-state+json": {
    "state": {
     "2c1bc1f8994b43d0b150b78d47345d61": {
      "model_module": "jupyter-matplotlib",
      "model_module_version": "^0.4.2",
      "model_name": "MPLCanvasModel",
      "state": {
       "layout": "IPY_MODEL_edf756efe752423790a833df5c0cc95e",
       "toolbar": "IPY_MODEL_5090e7b58fbf4ae4876c032cb3bd1671",
       "toolbar_position": "left"
      }
     },
     "5090e7b58fbf4ae4876c032cb3bd1671": {
      "model_module": "jupyter-matplotlib",
      "model_module_version": "^0.4.2",
      "model_name": "ToolbarModel",
      "state": {
       "layout": "IPY_MODEL_55d6be447a404ae681c43757f081c309",
       "toolitems": [
        [
         "Home",
         "Reset original view",
         "home",
         "home"
        ],
        [
         "Back",
         "Back to previous view",
         "arrow-left",
         "back"
        ],
        [
         "Forward",
         "Forward to next view",
         "arrow-right",
         "forward"
        ],
        [
         "Pan",
         "Pan axes with left mouse, zoom with right",
         "arrows",
         "pan"
        ],
        [
         "Zoom",
         "Zoom to rectangle",
         "square-o",
         "zoom"
        ],
        [
         "Download",
         "Download plot",
         "floppy-o",
         "save_figure"
        ]
       ]
      }
     },
     "55d6be447a404ae681c43757f081c309": {
      "model_module": "@jupyter-widgets/base",
      "model_module_version": "1.2.0",
      "model_name": "LayoutModel",
      "state": {}
     },
     "edf756efe752423790a833df5c0cc95e": {
      "model_module": "@jupyter-widgets/base",
      "model_module_version": "1.2.0",
      "model_name": "LayoutModel",
      "state": {}
     }
    },
    "version_major": 2,
    "version_minor": 0
   }
  }
 },
 "nbformat": 4,
 "nbformat_minor": 4
}
